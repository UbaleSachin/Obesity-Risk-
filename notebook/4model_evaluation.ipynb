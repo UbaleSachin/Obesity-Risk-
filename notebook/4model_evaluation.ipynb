{
 "cells": [
  {
   "cell_type": "code",
   "execution_count": 3,
   "metadata": {},
   "outputs": [
    {
     "data": {
      "text/plain": [
       "'c:\\\\Users\\\\SACHIN\\\\PycharmProjects\\\\Obesity-Risk-\\\\notebook'"
      ]
     },
     "execution_count": 3,
     "metadata": {},
     "output_type": "execute_result"
    }
   ],
   "source": [
    "import os\n",
    "%pwd"
   ]
  },
  {
   "cell_type": "code",
   "execution_count": 4,
   "metadata": {},
   "outputs": [
    {
     "data": {
      "text/plain": [
       "'c:\\\\Users\\\\SACHIN\\\\PycharmProjects\\\\Obesity-Risk-'"
      ]
     },
     "execution_count": 4,
     "metadata": {},
     "output_type": "execute_result"
    }
   ],
   "source": [
    "os.chdir('../')\n",
    "%pwd"
   ]
  },
  {
   "cell_type": "code",
   "execution_count": 5,
   "metadata": {},
   "outputs": [],
   "source": [
    "os.environ['MLFLOW_TRACKING_URI']='https://dagshub.com/ubalesachin22/Obesity-Risk-.mlflow'\n",
    "os.environ['MLFLOW_TRACKING_USERNAME']='ubalesachin22'\n",
    "os.environ['MLFLOW_TRACKING_PASSWORD']='14c861b68786366b977abad8b824a891884d1216'"
   ]
  },
  {
   "cell_type": "code",
   "execution_count": 7,
   "metadata": {},
   "outputs": [],
   "source": [
    "import os\n",
    "from dataclasses import dataclass\n",
    "from pathlib import Path\n",
    "\n",
    "@dataclass(frozen = True)\n",
    "class ModelEvaluationConfig:\n",
    "    root: Path\n",
    "    scaled_test_set: Path\n",
    "    model: Path\n",
    "    preprocessing_obj: Path\n",
    "    metrics: Path\n",
    "    all_params: dict\n",
    "    mlflow_uri: str"
   ]
  },
  {
   "cell_type": "code",
   "execution_count": 8,
   "metadata": {},
   "outputs": [],
   "source": [
    "from ObesityRisk.constants import *\n",
    "from ObesityRisk.utils.common import read_yaml, create_directories"
   ]
  },
  {
   "cell_type": "code",
   "execution_count": 9,
   "metadata": {},
   "outputs": [],
   "source": [
    "class ConfigurationsManager:\n",
    "    def __init__(self,\n",
    "        config_filepath = CONFIG_FILE_PATH,\n",
    "        params_filepath = PARAMS_FILE_PATH,):\n",
    "\n",
    "        self.config = read_yaml(config_filepath)\n",
    "        self.params = read_yaml(params_filepath)\n",
    "\n",
    "        create_directories([self.config.artifacts_file])\n",
    "\n",
    "\n",
    "    def get_model_evaluation_config(self) -> ModelEvaluationConfig:\n",
    "        config = self.config.model_evaluation\n",
    "        params = self.params.XgbClassifier\n",
    "        \n",
    "        create_directories([config.root])\n",
    "\n",
    "        model_evaluation_config = ModelEvaluationConfig(\n",
    "            root = config.root,\n",
    "            scaled_test_set = config.scaled_test_set,\n",
    "            model = config.model,\n",
    "            preprocessing_obj= config.preprocessing_obj,\n",
    "            metrics = config.metrics,\n",
    "            all_params = params,\n",
    "            mlflow_uri = 'https://dagshub.com/ubalesachin22/Obesity-Risk-.mlflow'\n",
    "        )\n",
    "\n",
    "        return model_evaluation_config"
   ]
  },
  {
   "cell_type": "code",
   "execution_count": 10,
   "metadata": {},
   "outputs": [],
   "source": [
    "import os\n",
    "import pandas as pd\n",
    "from urllib.parse import urlparse\n",
    "import mlflow\n",
    "import mlflow.sklearn\n",
    "import numpy as np\n",
    "from sklearn.metrics import accuracy_score\n",
    "from src.ObesityRisk.utils.common import save_json\n",
    "from src.ObesityRisk import logger\n",
    "from src.ObesityRisk.utils.common import *"
   ]
  },
  {
   "cell_type": "code",
   "execution_count": 11,
   "metadata": {},
   "outputs": [],
   "source": [
    "class ModelEvaluation:\n",
    "    def __init__(self, config:ModelEvaluationConfig):\n",
    "        self.config = config\n",
    "\n",
    "    \n",
    "    def model_evaluation(self, true, predicted):\n",
    "        ac = accuracy_score(true, predicted)\n",
    "        return ac\n",
    "\n",
    "    \n",
    "    def log_into_mlflow(self):\n",
    "        test_data = pd.read_csv(self.config.scaled_test_set)\n",
    "\n",
    "        logger.info(\"Slpitting Test data\")\n",
    "        test_x = test_data.iloc[:, :-1]\n",
    "        test_y = test_data.iloc[:, -1]\n",
    "\n",
    "        #test_y = test_data['NObeyesdad'].map(remap)\n",
    "\n",
    "        logger.info('Loading Trained Model')\n",
    "        model = load_pickle(self.config.model)\n",
    "\n",
    "\n",
    "        mlflow.set_registry_uri(self.config.mlflow_uri)\n",
    "        tracking_url_type_store = urlparse(mlflow.get_tracking_uri()).scheme\n",
    "\n",
    "        with mlflow.start_run():\n",
    "\n",
    "            test_prediction = model.predict(test_x)\n",
    "\n",
    "            ac = self.model_evaluation(test_y, test_prediction)\n",
    "\n",
    "            scores = {\"accuracy score\": ac}\n",
    "            save_json(path=Path(self.config.metrics), data = scores)\n",
    "            \n",
    "            mlflow.log_params(self.config.all_params)\n",
    "\n",
    "            mlflow.log_metric(\"accuracy score\", ac)\n",
    "\n",
    "            if tracking_url_type_store != \"file\":\n",
    "                mlflow.sklearn.log_model(model, 'model', registered_model_name='XgbClassifier')\n",
    "            else:\n",
    "                mlflow.sklearn.log_model(model, 'model')\n"
   ]
  },
  {
   "cell_type": "code",
   "execution_count": 12,
   "metadata": {},
   "outputs": [
    {
     "name": "stdout",
     "output_type": "stream",
     "text": [
      "[2024-03-10 16:41:13,972: INFO: common: yaml file Config\\Config.yaml loaded successfully]\n",
      "[2024-03-10 16:41:13,994: INFO: common: yaml file params.yaml loaded successfully]\n",
      "[2024-03-10 16:41:14,000: INFO: common: creating directory at artifacts]\n",
      "[2024-03-10 16:41:14,006: INFO: common: creating directory at artifacts/model_evaluation]\n"
     ]
    },
    {
     "name": "stdout",
     "output_type": "stream",
     "text": [
      "[2024-03-10 16:41:14,107: INFO: 3416948005: Slpitting Test data]\n",
      "[2024-03-10 16:41:14,116: INFO: 3416948005: Loading Trained Model]\n",
      "[2024-03-10 16:41:18,266: INFO: common: jason file saved to as: artifacts\\model_evaluation\\metrics.json]\n"
     ]
    },
    {
     "name": "stderr",
     "output_type": "stream",
     "text": [
      "Registered model 'XgbClassifier' already exists. Creating a new version of this model...\n",
      "2024/03/10 16:41:45 INFO mlflow.store.model_registry.abstract_store: Waiting up to 300 seconds for model version to finish creation. Model name: XgbClassifier, version 14\n",
      "Created version '14' of model 'XgbClassifier'.\n"
     ]
    }
   ],
   "source": [
    "try:\n",
    "    config = ConfigurationsManager()\n",
    "    model_evaluation_config = config.get_model_evaluation_config()\n",
    "    model_evaluation_config = ModelEvaluation(config=model_evaluation_config)\n",
    "    model_evaluation_config.log_into_mlflow()\n",
    "except Exception as e:\n",
    "    raise e"
   ]
  }
 ],
 "metadata": {
  "kernelspec": {
   "display_name": "obesity",
   "language": "python",
   "name": "python3"
  },
  "language_info": {
   "codemirror_mode": {
    "name": "ipython",
    "version": 3
   },
   "file_extension": ".py",
   "mimetype": "text/x-python",
   "name": "python",
   "nbconvert_exporter": "python",
   "pygments_lexer": "ipython3",
   "version": "3.11.7"
  }
 },
 "nbformat": 4,
 "nbformat_minor": 2
}
